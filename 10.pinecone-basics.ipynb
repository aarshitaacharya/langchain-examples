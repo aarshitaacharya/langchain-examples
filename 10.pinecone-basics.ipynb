{
 "cells": [
  {
   "cell_type": "code",
   "execution_count": 1,
   "id": "b7a412e1",
   "metadata": {},
   "outputs": [
    {
     "name": "stdout",
     "output_type": "stream",
     "text": [
      "Requirement already satisfied: pandas in /Users/aarshitaacharya/.pyenv/versions/3.10.16/lib/python3.10/site-packages (2.2.3)\n",
      "Collecting pinecone\n",
      "  Downloading pinecone-7.3.0-py3-none-any.whl (587 kB)\n",
      "\u001b[2K     \u001b[90m━━━━━━━━━━━━━━━━━━━━━━━━━━━━━━━━━━━━━━━\u001b[0m \u001b[32m587.6/587.6 kB\u001b[0m \u001b[31m2.1 MB/s\u001b[0m eta \u001b[36m0:00:00\u001b[0m00:01\u001b[0m00:01\u001b[0m\n",
      "\u001b[?25hRequirement already satisfied: numpy>=1.22.4 in /Users/aarshitaacharya/.pyenv/versions/3.10.16/lib/python3.10/site-packages (from pandas) (1.26.4)\n",
      "Requirement already satisfied: pytz>=2020.1 in /Users/aarshitaacharya/.pyenv/versions/3.10.16/lib/python3.10/site-packages (from pandas) (2025.2)\n",
      "Requirement already satisfied: tzdata>=2022.7 in /Users/aarshitaacharya/.pyenv/versions/3.10.16/lib/python3.10/site-packages (from pandas) (2025.2)\n",
      "Requirement already satisfied: python-dateutil>=2.8.2 in /Users/aarshitaacharya/.pyenv/versions/3.10.16/lib/python3.10/site-packages (from pandas) (2.9.0.post0)\n",
      "Collecting pinecone-plugin-assistant<2.0.0,>=1.6.0\n",
      "  Downloading pinecone_plugin_assistant-1.7.0-py3-none-any.whl (239 kB)\n",
      "\u001b[2K     \u001b[90m━━━━━━━━━━━━━━━━━━━━━━━━━━━━━━━━━━━━━━━\u001b[0m \u001b[32m240.0/240.0 kB\u001b[0m \u001b[31m2.3 MB/s\u001b[0m eta \u001b[36m0:00:00\u001b[0ma \u001b[36m0:00:01\u001b[0m\n",
      "\u001b[?25hRequirement already satisfied: urllib3>=1.26.0 in /Users/aarshitaacharya/.pyenv/versions/3.10.16/lib/python3.10/site-packages (from pinecone) (2.3.0)\n",
      "Requirement already satisfied: certifi>=2019.11.17 in /Users/aarshitaacharya/.pyenv/versions/3.10.16/lib/python3.10/site-packages (from pinecone) (2025.1.31)\n",
      "Collecting pinecone-plugin-interface<0.0.8,>=0.0.7\n",
      "  Downloading pinecone_plugin_interface-0.0.7-py3-none-any.whl (6.2 kB)\n",
      "Requirement already satisfied: typing-extensions>=3.7.4 in /Users/aarshitaacharya/.pyenv/versions/3.10.16/lib/python3.10/site-packages (from pinecone) (4.12.2)\n",
      "Requirement already satisfied: packaging<25.0,>=24.2 in /Users/aarshitaacharya/.pyenv/versions/3.10.16/lib/python3.10/site-packages (from pinecone-plugin-assistant<2.0.0,>=1.6.0->pinecone) (24.2)\n",
      "Requirement already satisfied: requests<3.0.0,>=2.32.3 in /Users/aarshitaacharya/.pyenv/versions/3.10.16/lib/python3.10/site-packages (from pinecone-plugin-assistant<2.0.0,>=1.6.0->pinecone) (2.32.3)\n",
      "Requirement already satisfied: six>=1.5 in /Users/aarshitaacharya/.pyenv/versions/3.10.16/lib/python3.10/site-packages (from python-dateutil>=2.8.2->pandas) (1.17.0)\n",
      "Requirement already satisfied: idna<4,>=2.5 in /Users/aarshitaacharya/.pyenv/versions/3.10.16/lib/python3.10/site-packages (from requests<3.0.0,>=2.32.3->pinecone-plugin-assistant<2.0.0,>=1.6.0->pinecone) (3.10)\n",
      "Requirement already satisfied: charset-normalizer<4,>=2 in /Users/aarshitaacharya/.pyenv/versions/3.10.16/lib/python3.10/site-packages (from requests<3.0.0,>=2.32.3->pinecone-plugin-assistant<2.0.0,>=1.6.0->pinecone) (3.4.1)\n",
      "Installing collected packages: pinecone-plugin-interface, pinecone-plugin-assistant, pinecone\n",
      "Successfully installed pinecone-7.3.0 pinecone-plugin-assistant-1.7.0 pinecone-plugin-interface-0.0.7\n",
      "\n",
      "\u001b[1m[\u001b[0m\u001b[34;49mnotice\u001b[0m\u001b[1;39;49m]\u001b[0m\u001b[39;49m A new release of pip is available: \u001b[0m\u001b[31;49m23.0.1\u001b[0m\u001b[39;49m -> \u001b[0m\u001b[32;49m25.1.1\u001b[0m\n",
      "\u001b[1m[\u001b[0m\u001b[34;49mnotice\u001b[0m\u001b[1;39;49m]\u001b[0m\u001b[39;49m To update, run: \u001b[0m\u001b[32;49mpip install --upgrade pip\u001b[0m\n",
      "Note: you may need to restart the kernel to use updated packages.\n"
     ]
    }
   ],
   "source": [
    "%pip install pandas pinecone"
   ]
  },
  {
   "cell_type": "code",
   "execution_count": 2,
   "id": "5dbdef47",
   "metadata": {},
   "outputs": [],
   "source": [
    "import os\n",
    "from pinecone import Pinecone\n",
    "\n",
    "api_key = os.environ.get(\"PINECONE_API_KEY\") or \"PINECONE_API_KEY\"\n",
    "pc = Pinecone(api_key=api_key)"
   ]
  },
  {
   "cell_type": "markdown",
   "id": "b7ca054f",
   "metadata": {},
   "source": [
    "First, create an index"
   ]
  },
  {
   "cell_type": "code",
   "execution_count": 3,
   "id": "089300e1",
   "metadata": {},
   "outputs": [],
   "source": [
    "index_name = \"hello-pinecone\""
   ]
  },
  {
   "cell_type": "code",
   "execution_count": 4,
   "id": "76c85e19",
   "metadata": {},
   "outputs": [],
   "source": [
    "if pc.has_index(name=index_name):\n",
    "    pc.delete_index(name=index_name)"
   ]
  },
  {
   "cell_type": "code",
   "execution_count": 5,
   "id": "d09c228e",
   "metadata": {},
   "outputs": [
    {
     "data": {
      "text/plain": [
       "{\n",
       "    \"name\": \"hello-pinecone\",\n",
       "    \"metric\": \"cosine\",\n",
       "    \"host\": \"hello-pinecone-dxs2y97.svc.aped-4627-b74a.pinecone.io\",\n",
       "    \"spec\": {\n",
       "        \"serverless\": {\n",
       "            \"cloud\": \"aws\",\n",
       "            \"region\": \"us-east-1\"\n",
       "        }\n",
       "    },\n",
       "    \"status\": {\n",
       "        \"ready\": true,\n",
       "        \"state\": \"Ready\"\n",
       "    },\n",
       "    \"vector_type\": \"dense\",\n",
       "    \"dimension\": 3,\n",
       "    \"deletion_protection\": \"disabled\",\n",
       "    \"tags\": null\n",
       "}"
      ]
     },
     "execution_count": 5,
     "metadata": {},
     "output_type": "execute_result"
    }
   ],
   "source": [
    "from pinecone import ServerlessSpec, CloudProvider, AwsRegion, Metric\n",
    "\n",
    "pc.create_index(\n",
    "    name=index_name,\n",
    "    metric=Metric.COSINE,\n",
    "    dimension=3,\n",
    "    spec=ServerlessSpec(cloud=CloudProvider.AWS, region=AwsRegion.US_EAST_1)\n",
    ")\n"
   ]
  },
  {
   "cell_type": "code",
   "execution_count": 6,
   "id": "b18cd96b",
   "metadata": {},
   "outputs": [],
   "source": [
    "description = pc.describe_index(name=index_name)"
   ]
  },
  {
   "cell_type": "code",
   "execution_count": 7,
   "id": "96c36599",
   "metadata": {},
   "outputs": [
    {
     "data": {
      "text/plain": [
       "{\n",
       "    \"name\": \"hello-pinecone\",\n",
       "    \"metric\": \"cosine\",\n",
       "    \"host\": \"hello-pinecone-dxs2y97.svc.aped-4627-b74a.pinecone.io\",\n",
       "    \"spec\": {\n",
       "        \"serverless\": {\n",
       "            \"cloud\": \"aws\",\n",
       "            \"region\": \"us-east-1\"\n",
       "        }\n",
       "    },\n",
       "    \"status\": {\n",
       "        \"ready\": true,\n",
       "        \"state\": \"Ready\"\n",
       "    },\n",
       "    \"vector_type\": \"dense\",\n",
       "    \"dimension\": 3,\n",
       "    \"deletion_protection\": \"disabled\",\n",
       "    \"tags\": null\n",
       "}"
      ]
     },
     "execution_count": 7,
     "metadata": {},
     "output_type": "execute_result"
    }
   ],
   "source": [
    "description"
   ]
  },
  {
   "cell_type": "markdown",
   "id": "c328a5fc",
   "metadata": {},
   "source": [
    "Upserting data in the index"
   ]
  },
  {
   "cell_type": "code",
   "execution_count": 8,
   "id": "02add577",
   "metadata": {},
   "outputs": [
    {
     "name": "stderr",
     "output_type": "stream",
     "text": [
      "/Users/aarshitaacharya/.pyenv/versions/3.10.16/lib/python3.10/site-packages/tqdm/auto.py:21: TqdmWarning: IProgress not found. Please update jupyter and ipywidgets. See https://ipywidgets.readthedocs.io/en/stable/user_install.html\n",
      "  from .autonotebook import tqdm as notebook_tqdm\n"
     ]
    }
   ],
   "source": [
    "index = pc.Index(host = description.host)"
   ]
  },
  {
   "cell_type": "code",
   "execution_count": 13,
   "id": "249ad35e",
   "metadata": {},
   "outputs": [
    {
     "data": {
      "text/html": [
       "<div>\n",
       "<style scoped>\n",
       "    .dataframe tbody tr th:only-of-type {\n",
       "        vertical-align: middle;\n",
       "    }\n",
       "\n",
       "    .dataframe tbody tr th {\n",
       "        vertical-align: top;\n",
       "    }\n",
       "\n",
       "    .dataframe thead th {\n",
       "        text-align: right;\n",
       "    }\n",
       "</style>\n",
       "<table border=\"1\" class=\"dataframe\">\n",
       "  <thead>\n",
       "    <tr style=\"text-align: right;\">\n",
       "      <th></th>\n",
       "      <th>id</th>\n",
       "      <th>vector</th>\n",
       "    </tr>\n",
       "  </thead>\n",
       "  <tbody>\n",
       "    <tr>\n",
       "      <th>0</th>\n",
       "      <td>id-0</td>\n",
       "      <td>[0.659369338712196, 0.29911018201933526, 0.092...</td>\n",
       "    </tr>\n",
       "    <tr>\n",
       "      <th>1</th>\n",
       "      <td>id-1</td>\n",
       "      <td>[0.5614061697665887, 0.8970199641851216, 0.531...</td>\n",
       "    </tr>\n",
       "    <tr>\n",
       "      <th>2</th>\n",
       "      <td>id-2</td>\n",
       "      <td>[0.47684983677190085, 0.8494515631503514, 0.63...</td>\n",
       "    </tr>\n",
       "    <tr>\n",
       "      <th>3</th>\n",
       "      <td>id-3</td>\n",
       "      <td>[0.5007494719007828, 0.7295529875152408, 0.805...</td>\n",
       "    </tr>\n",
       "    <tr>\n",
       "      <th>4</th>\n",
       "      <td>id-4</td>\n",
       "      <td>[0.9726885402942819, 0.843113122392354, 0.6594...</td>\n",
       "    </tr>\n",
       "  </tbody>\n",
       "</table>\n",
       "</div>"
      ],
      "text/plain": [
       "     id                                             vector\n",
       "0  id-0  [0.659369338712196, 0.29911018201933526, 0.092...\n",
       "1  id-1  [0.5614061697665887, 0.8970199641851216, 0.531...\n",
       "2  id-2  [0.47684983677190085, 0.8494515631503514, 0.63...\n",
       "3  id-3  [0.5007494719007828, 0.7295529875152408, 0.805...\n",
       "4  id-4  [0.9726885402942819, 0.843113122392354, 0.6594..."
      ]
     },
     "execution_count": 13,
     "metadata": {},
     "output_type": "execute_result"
    }
   ],
   "source": [
    "import random\n",
    "import pandas as pd\n",
    "\n",
    "def create_simulated_data(num_vectors):\n",
    "    df = pd.DataFrame(\n",
    "        data = {\n",
    "            \"id\": [f\"id-{i}\" for i in range(num_vectors)],\n",
    "            \"vector\": [\n",
    "                [random.random() for i in range(description.dimension)]\n",
    "                for _ in range(num_vectors)\n",
    "            ],\n",
    "        }\n",
    "    )\n",
    "    return df\n",
    "\n",
    "df = create_simulated_data(10)\n",
    "df.head()"
   ]
  },
  {
   "cell_type": "code",
   "execution_count": 14,
   "id": "1128fda5",
   "metadata": {},
   "outputs": [
    {
     "data": {
      "text/plain": [
       "{'upserted_count': 10}"
      ]
     },
     "execution_count": 14,
     "metadata": {},
     "output_type": "execute_result"
    }
   ],
   "source": [
    "index.upsert(vectors=zip(df.id, df.vector))"
   ]
  },
  {
   "cell_type": "code",
   "execution_count": 15,
   "id": "14b13a63",
   "metadata": {},
   "outputs": [
    {
     "name": "stdout",
     "output_type": "stream",
     "text": [
      "Vector count:  10\n"
     ]
    }
   ],
   "source": [
    "import time\n",
    "\n",
    "def is_fresh(index):\n",
    "    stats = index.describe_index_stats()\n",
    "    vector_count = stats.total_vector_count\n",
    "    print(f\"Vector count: \", vector_count)\n",
    "    return vector_count > 0\n",
    "\n",
    "while not is_fresh(index):\n",
    "    time.sleep(5)"
   ]
  },
  {
   "cell_type": "code",
   "execution_count": 16,
   "id": "017fae1b",
   "metadata": {},
   "outputs": [
    {
     "data": {
      "text/plain": [
       "{'dimension': 3,\n",
       " 'index_fullness': 0.0,\n",
       " 'metric': 'cosine',\n",
       " 'namespaces': {'': {'vector_count': 10}},\n",
       " 'total_vector_count': 10,\n",
       " 'vector_type': 'dense'}"
      ]
     },
     "execution_count": 16,
     "metadata": {},
     "output_type": "execute_result"
    }
   ],
   "source": [
    "index.describe_index_stats()"
   ]
  },
  {
   "cell_type": "markdown",
   "id": "127af13a",
   "metadata": {},
   "source": [
    "running a query"
   ]
  },
  {
   "cell_type": "code",
   "execution_count": 18,
   "id": "e93ede53",
   "metadata": {},
   "outputs": [
    {
     "data": {
      "text/plain": [
       "{'matches': [{'id': 'id-5',\n",
       "              'score': 0.979957759,\n",
       "              'values': [0.563316941, 0.472606599, 0.44236514]},\n",
       "             {'id': 'id-4',\n",
       "              'score': 0.972685,\n",
       "              'values': [0.972688556, 0.843113124, 0.659466207]},\n",
       "             {'id': 'id-9',\n",
       "              'score': 0.931567073,\n",
       "              'values': [0.861466408, 0.0182106253, 0.626643777]},\n",
       "             {'id': 'id-6',\n",
       "              'score': 0.916704178,\n",
       "              'values': [0.739296138, 0.0831025615, 0.894055545]},\n",
       "             {'id': 'id-0',\n",
       "              'score': 0.907330394,\n",
       "              'values': [0.659369349, 0.299110174, 0.0923850611]}],\n",
       " 'namespace': '',\n",
       " 'usage': {'read_units': 1}}"
      ]
     },
     "execution_count": 18,
     "metadata": {},
     "output_type": "execute_result"
    }
   ],
   "source": [
    "query_embedding = [1.0,0.5,0.7]\n",
    "index.query(vector=query_embedding, top_k=5, include_values=True)"
   ]
  },
  {
   "cell_type": "markdown",
   "id": "50d2fdff",
   "metadata": {},
   "source": [
    "deleting index"
   ]
  },
  {
   "cell_type": "code",
   "execution_count": 19,
   "id": "f0c90df2",
   "metadata": {},
   "outputs": [],
   "source": [
    "pc.delete_index(name=index_name)"
   ]
  }
 ],
 "metadata": {
  "kernelspec": {
   "display_name": "Python 3",
   "language": "python",
   "name": "python3"
  },
  "language_info": {
   "codemirror_mode": {
    "name": "ipython",
    "version": 3
   },
   "file_extension": ".py",
   "mimetype": "text/x-python",
   "name": "python",
   "nbconvert_exporter": "python",
   "pygments_lexer": "ipython3",
   "version": "3.10.16"
  }
 },
 "nbformat": 4,
 "nbformat_minor": 5
}
