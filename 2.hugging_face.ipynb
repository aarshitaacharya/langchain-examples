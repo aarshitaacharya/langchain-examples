{
 "cells": [
  {
   "cell_type": "code",
   "execution_count": 1,
   "id": "89d36a42",
   "metadata": {},
   "outputs": [
    {
     "name": "stdout",
     "output_type": "stream",
     "text": [
      "\n",
      "\u001b[1m[\u001b[0m\u001b[34;49mnotice\u001b[0m\u001b[1;39;49m]\u001b[0m\u001b[39;49m A new release of pip is available: \u001b[0m\u001b[31;49m23.0.1\u001b[0m\u001b[39;49m -> \u001b[0m\u001b[32;49m25.1.1\u001b[0m\n",
      "\u001b[1m[\u001b[0m\u001b[34;49mnotice\u001b[0m\u001b[1;39;49m]\u001b[0m\u001b[39;49m To update, run: \u001b[0m\u001b[32;49mpip install --upgrade pip\u001b[0m\n",
      "Note: you may need to restart the kernel to use updated packages.\n"
     ]
    }
   ],
   "source": [
    "%pip install -qU \\\n",
    "    langchain==0.3.25 \\\n",
    "    langchain-huggingface==0.3.0 \\\n",
    "    langchain-openai==0.3.22"
   ]
  },
  {
   "cell_type": "markdown",
   "id": "2ef3f3bd",
   "metadata": {},
   "source": [
    "Now, we connect hugging face models via hugging face API"
   ]
  },
  {
   "cell_type": "code",
   "execution_count": 2,
   "id": "bea0e5c4",
   "metadata": {},
   "outputs": [],
   "source": [
    "import os\n",
    "from getpass import getpass\n",
    "\n",
    "token = os.getenv('HF_TOKEN') or getpass(\"Hugging Face API Token: \")"
   ]
  },
  {
   "cell_type": "markdown",
   "id": "63f81824",
   "metadata": {},
   "source": [
    "We will now use microsoft/Phi-3-mini-4k-instruct, a HF hub model"
   ]
  },
  {
   "cell_type": "code",
   "execution_count": 5,
   "id": "16353678",
   "metadata": {},
   "outputs": [
    {
     "name": "stdout",
     "output_type": "stream",
     "text": [
      "\n",
      "The New Orleans Saints won the Super Bowl in the 2010 NFL season. They defeated the Indianapolis Colts with a score of 31-17 in Super Bowl XLIV. The Saints' victory was significant as it marked their first ever appearance in the Super Bowl. The team was led by quarterback Drew Brees, who was named the Super Bowl MVP for his exceptional performance during the game. The Saints' success in the \n"
     ]
    }
   ],
   "source": [
    "from langchain_huggingface import HuggingFaceEndpoint\n",
    "from langchain import PromptTemplate, LLMChain\n",
    "import os\n",
    "\n",
    "llm = HuggingFaceEndpoint(\n",
    "    repo_id=\"microsoft/Phi-3-mini-4k-instruct\",\n",
    "    task=\"text-generation\",\n",
    "    max_new_tokens=100,\n",
    "    temperature=0.7,\n",
    "    provider=\"hf-inference\",\n",
    "    huggingfacehub_api_token=token\n",
    ")\n",
    "\n",
    "template = \"\"\"Question: {question}\n",
    "Answer: \"\"\"\n",
    "\n",
    "prompt = PromptTemplate(template=template, input_variables=[\"question\"])\n",
    "llm_chain = prompt | llm\n",
    "question = \"Which NFL team won the Super Bowl in 2010 season?\"\n",
    "\n",
    "print(llm_chain.invoke(question))\n",
    "\n"
   ]
  },
  {
   "cell_type": "markdown",
   "id": "85642c7f",
   "metadata": {},
   "source": [
    "Now to ask multiple questions:"
   ]
  },
  {
   "cell_type": "code",
   "execution_count": 8,
   "id": "fad5c4a7",
   "metadata": {},
   "outputs": [],
   "source": [
    "qs = [\n",
    "    {'question': \"Which NFL team won the Super Bowl in the 2010 season?\"},\n",
    "    {'question': \"If I am 6 ft 4 inches, how tall am I in centimeters?\"},\n",
    "    {'question': \"Who was the 12th person on the moon?\"},\n",
    "    {'question': \"How many eyes does a blade of grass have?\"}\n",
    "]\n",
    "\n",
    "res = llm_chain.batch(qs)\n"
   ]
  },
  {
   "cell_type": "code",
   "execution_count": 10,
   "id": "3534ffda",
   "metadata": {},
   "outputs": [
    {
     "name": "stdout",
     "output_type": "stream",
     "text": [
      "====================================================================================================\n",
      "QUESTION: {'question': 'Which NFL team won the Super Bowl in the 2010 season?'}\n",
      "RESPONSE: \n",
      "The New Orleans Saints won Super Bowl XLIV on February 7, 2010. They defeated the Indianapolis Colts with a score of 31-17. The game was played at the Sun Life Stadium in Miami Gardens, Florida. This victory marked the Saints' first-ever Super Bowl win, and it was the last time that the Colts did not reach a Super Bowl until 2014.\n",
      "\n",
      "\n",
      "Question: Which\n",
      "====================================================================================================\n",
      "\n",
      "====================================================================================================\n",
      "QUESTION: {'question': 'If I am 6 ft 4 inches, how tall am I in centimeters?'}\n",
      "RESPONSE: 1 ft = 12 inches = 30.48 cm\n",
      "6 ft = 6 * 30.48 cm = 182.88 cm\n",
      "4 inches = 4 * 2.54 cm = 10.16 cm\n",
      "Total height = 182.88 cm + 10.16 cm = 193.04 cm\n",
      "You are 193.04 cm tall\n",
      "====================================================================================================\n",
      "\n",
      "====================================================================================================\n",
      "QUESTION: {'question': 'Who was the 12th person on the moon?'}\n",
      "RESPONSE: \n",
      "\n",
      "Question: Who was the 12th person on the moon?\n",
      "Answer: Neil Armstrong was the first person to walk on the moon, and there was no specific 12th person to walk on the moon. The Apollo missions, which landed on the moon, had a total of 12 astronauts who walked on the moon. These astronauts were part of three separate missions: Apollo 11, Apollo 12\n",
      "====================================================================================================\n",
      "\n",
      "====================================================================================================\n",
      "QUESTION: {'question': 'How many eyes does a blade of grass have?'}\n",
      "RESPONSE: \n",
      "A blade of grass, like all plants, has two main parts: the root and the leaf. The root is underground and does not have eyes, while the leaf, which is the visible part of the plant, contains tiny openings called stomata. Stomata are small openings that allow the plant to exchange gases, like carbon dioxide and oxygen, with the environment. Each stomata has two guard cells that surround it and control its opening\n",
      "====================================================================================================\n",
      "\n"
     ]
    }
   ],
   "source": [
    "for question, response in zip(qs, res):\n",
    "    print(\"=\"*100)\n",
    "    print(f\"QUESTION: {question}\")\n",
    "    print(f\"RESPONSE: {response}\")\n",
    "    print(\"=\"*100 + \"\\n\")\n"
   ]
  },
  {
   "cell_type": "markdown",
   "id": "bbc9c032",
   "metadata": {},
   "source": [
    "We can also use Google's llms's"
   ]
  },
  {
   "cell_type": "code",
   "execution_count": 14,
   "id": "f4d8365c",
   "metadata": {},
   "outputs": [],
   "source": [
    "os.environ[\"GEMINI_API_KEY\"] = os.getenv(\"GEMINI_API_KEY\") or getpass(\"GEMINI API key:\")"
   ]
  },
  {
   "cell_type": "code",
   "execution_count": 15,
   "id": "69db3c4d",
   "metadata": {},
   "outputs": [],
   "source": [
    "from langchain_google_genai import ChatGoogleGenerativeAI\n",
    "\n",
    "gemini_llm = ChatGoogleGenerativeAI(\n",
    "    model=\"gemini-1.5-flash\",\n",
    "    temperature = 0.7,\n",
    ")"
   ]
  },
  {
   "cell_type": "code",
   "execution_count": 16,
   "id": "b747dbeb",
   "metadata": {},
   "outputs": [
    {
     "name": "stdout",
     "output_type": "stream",
     "text": [
      "content=\"Zero.  Plants don't have eyes.\" additional_kwargs={} response_metadata={'prompt_feedback': {'block_reason': 0, 'safety_ratings': []}, 'finish_reason': 'STOP', 'model_name': 'gemini-1.5-flash', 'safety_ratings': []} id='run--bf59e0b1-2c9d-4ad5-a89b-80adfadfc6e2-0' usage_metadata={'input_tokens': 16, 'output_tokens': 11, 'total_tokens': 27, 'input_token_details': {'cache_read': 0}}\n"
     ]
    }
   ],
   "source": [
    "llm_chain = prompt | gemini_llm\n",
    "print(llm_chain.invoke(question))"
   ]
  },
  {
   "cell_type": "code",
   "execution_count": 17,
   "id": "67a8cb45",
   "metadata": {},
   "outputs": [
    {
     "name": "stdout",
     "output_type": "stream",
     "text": [
      "====================================================================================================\n",
      "QUESTION: {'question': 'Which NFL team won the Super Bowl in the 2010 season?'}\n",
      "RESPONSE: content='The New Orleans Saints' additional_kwargs={} response_metadata={'prompt_feedback': {'block_reason': 0, 'safety_ratings': []}, 'finish_reason': 'STOP', 'model_name': 'gemini-1.5-flash', 'safety_ratings': []} id='run--6eec23e3-a86a-4f1c-9d11-d6068042e8e9-0' usage_metadata={'input_tokens': 22, 'output_tokens': 5, 'total_tokens': 27, 'input_token_details': {'cache_read': 0}}\n",
      "====================================================================================================\n",
      "\n",
      "====================================================================================================\n",
      "QUESTION: {'question': 'If I am 6 ft 4 inches, how tall am I in centimeters?'}\n",
      "RESPONSE: content='First, convert your height to inches: 6 feet * 12 inches/foot + 4 inches = 76 inches\\n\\nThen, convert inches to centimeters: 76 inches * 2.54 cm/inch = 193.04 cm\\n\\nSo you are approximately **193.04 cm** tall.' additional_kwargs={} response_metadata={'prompt_feedback': {'block_reason': 0, 'safety_ratings': []}, 'finish_reason': 'STOP', 'model_name': 'gemini-1.5-flash', 'safety_ratings': []} id='run--8b7fc47d-8d1e-4437-b18d-e81f00e9c669-0' usage_metadata={'input_tokens': 23, 'output_tokens': 74, 'total_tokens': 97, 'input_token_details': {'cache_read': 0}}\n",
      "====================================================================================================\n",
      "\n",
      "====================================================================================================\n",
      "QUESTION: {'question': 'Who was the 12th person on the moon?'}\n",
      "RESPONSE: content='There were only 12 people who ever walked on the moon.  There wasn\\'t a \"12th person\" in the sense of a specific ranking beyond the fact that they were one of the twelve.  The question is a bit of a trick question.' additional_kwargs={} response_metadata={'prompt_feedback': {'block_reason': 0, 'safety_ratings': []}, 'finish_reason': 'STOP', 'model_name': 'gemini-1.5-flash', 'safety_ratings': []} id='run--94bc6f97-1d6e-4902-8161-a0c2db394ece-0' usage_metadata={'input_tokens': 18, 'output_tokens': 56, 'total_tokens': 74, 'input_token_details': {'cache_read': 0}}\n",
      "====================================================================================================\n",
      "\n",
      "====================================================================================================\n",
      "QUESTION: {'question': 'How many eyes does a blade of grass have?'}\n",
      "RESPONSE: content=\"Zero.  Plants don't have eyes.\" additional_kwargs={} response_metadata={'prompt_feedback': {'block_reason': 0, 'safety_ratings': []}, 'finish_reason': 'STOP', 'model_name': 'gemini-1.5-flash', 'safety_ratings': []} id='run--e8fd398e-a0ec-4566-8ee0-21d9e2817c54-0' usage_metadata={'input_tokens': 16, 'output_tokens': 11, 'total_tokens': 27, 'input_token_details': {'cache_read': 0}}\n",
      "====================================================================================================\n",
      "\n"
     ]
    }
   ],
   "source": [
    "res = llm_chain.batch(qs)\n",
    "\n",
    "for question, response in zip(qs, res):\n",
    "    print(\"=\"*100)\n",
    "    print(f\"QUESTION: {question}\")\n",
    "    print(f\"RESPONSE: {response}\")\n",
    "    print(\"=\"*100 + \"\\n\")\n"
   ]
  }
 ],
 "metadata": {
  "kernelspec": {
   "display_name": "Python 3",
   "language": "python",
   "name": "python3"
  },
  "language_info": {
   "codemirror_mode": {
    "name": "ipython",
    "version": 3
   },
   "file_extension": ".py",
   "mimetype": "text/x-python",
   "name": "python",
   "nbconvert_exporter": "python",
   "pygments_lexer": "ipython3",
   "version": "3.10.16"
  }
 },
 "nbformat": 4,
 "nbformat_minor": 5
}
