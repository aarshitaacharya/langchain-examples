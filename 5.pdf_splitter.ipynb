{
 "cells": [
  {
   "cell_type": "code",
   "execution_count": 1,
   "id": "2d7dea11",
   "metadata": {},
   "outputs": [
    {
     "name": "stdout",
     "output_type": "stream",
     "text": [
      "\n",
      "\u001b[1m[\u001b[0m\u001b[34;49mnotice\u001b[0m\u001b[1;39;49m]\u001b[0m\u001b[39;49m A new release of pip is available: \u001b[0m\u001b[31;49m23.0.1\u001b[0m\u001b[39;49m -> \u001b[0m\u001b[32;49m25.1.1\u001b[0m\n",
      "\u001b[1m[\u001b[0m\u001b[34;49mnotice\u001b[0m\u001b[1;39;49m]\u001b[0m\u001b[39;49m To update, run: \u001b[0m\u001b[32;49mpip install --upgrade pip\u001b[0m\n",
      "Note: you may need to restart the kernel to use updated packages.\n"
     ]
    }
   ],
   "source": [
    "%pip install -q langchain pymupdf python-dotenv"
   ]
  },
  {
   "cell_type": "markdown",
   "id": "9a063973",
   "metadata": {},
   "source": [
    "We will be using RecursiveCharacterTextSplitter. This helps us split documents, with chunks that are small enough to fit llm context windows, but not in the middle of the sentence or para."
   ]
  },
  {
   "cell_type": "code",
   "execution_count": 3,
   "id": "0511119d",
   "metadata": {},
   "outputs": [
    {
     "name": "stdout",
     "output_type": "stream",
     "text": [
      "Welcome to Smallpdf\n",
      "Digital Documents—All In One Place\n",
      "Access Files Anytime, Anywhere \n",
      "Enhance Documents in One Click \n",
      "Collaborate With Others \n",
      "With the new Smallpdf experience, you can \n",
      "freely upload, organize, and share digital \n",
      "documents. When you enable the ‘Storage’ \n",
      "option, we’ll also store all processed files here. \n",
      "You can access files stored on Smallpdf from \n",
      "your computer, phone, or tablet. We’ll also \n",
      "sync files from the Smallpdf Mobile App to our \n",
      "online portal\n",
      "When you right-click on a file, we’ll present \n",
      "you with an array of options to convert, \n",
      "compress, or modify it. \n",
      "Forget mundane administrative tasks. With \n",
      "Smallpdf, you can request e-signatures, send \n",
      "large files, or even enable the Smallpdf G Suite \n",
      "App for your entire organization. \n",
      "Ready to take document management to the next level? \n",
      "\n"
     ]
    }
   ],
   "source": [
    "import fitz\n",
    "\n",
    "def load_pdf_text(path):\n",
    "    doc = fitz.open(path)\n",
    "    full_text = \"\"\n",
    "    for page in doc:\n",
    "        full_text += page.get_text()\n",
    "    return full_text\n",
    "\n",
    "pdf_text = load_pdf_text(\"sample.pdf\")\n",
    "print(pdf_text[:1000])"
   ]
  },
  {
   "cell_type": "code",
   "execution_count": 4,
   "id": "5f0db49b",
   "metadata": {},
   "outputs": [],
   "source": [
    "from langchain.text_splitter import RecursiveCharacterTextSplitter"
   ]
  },
  {
   "cell_type": "code",
   "execution_count": 11,
   "id": "b60ce186",
   "metadata": {},
   "outputs": [
    {
     "name": "stdout",
     "output_type": "stream",
     "text": [
      "--Chunk 1 --\n",
      "Welcome to Smallpdf\n",
      "Digital Documents—All In One Place\n",
      "Access Files Anytime, Anywhere\n",
      "\n",
      "--Chunk 2 --\n",
      "Access Files Anytime, Anywhere \n",
      "Enhance Documents in One Click \n",
      "Collaborate With Others\n",
      "\n",
      "--Chunk 3 --\n",
      "Collaborate With Others \n",
      "With the new Smallpdf experience, you can\n",
      "\n",
      "--Chunk 4 --\n",
      "With the new Smallpdf experience, you can \n",
      "freely upload, organize, and share digital\n",
      "\n",
      "--Chunk 5 --\n",
      "freely upload, organize, and share digital \n",
      "documents. When you enable the ‘Storage’\n",
      "\n",
      "--Chunk 6 --\n",
      "documents. When you enable the ‘Storage’ \n",
      "option, we’ll also store all processed files here.\n",
      "\n",
      "--Chunk 7 --\n",
      "You can access files stored on Smallpdf from \n",
      "your computer, phone, or tablet. We’ll also\n",
      "\n",
      "--Chunk 8 --\n",
      "your computer, phone, or tablet. We’ll also \n",
      "sync files from the Smallpdf Mobile App to our\n",
      "\n",
      "--Chunk 9 --\n",
      "sync files from the Smallpdf Mobile App to our \n",
      "online portal\n",
      "\n",
      "--Chunk 10 --\n",
      "online portal\n",
      "When you right-click on a file, we’ll present\n",
      "\n",
      "--Chunk 11 --\n",
      "When you right-click on a file, we’ll present \n",
      "you with an array of options to convert,\n",
      "\n",
      "--Chunk 12 --\n",
      "you with an array of options to convert, \n",
      "compress, or modify it.\n",
      "\n",
      "--Chunk 13 --\n",
      "compress, or modify it. \n",
      "Forget mundane administrative tasks. With\n",
      "\n",
      "--Chunk 14 --\n",
      "Forget mundane administrative tasks. With \n",
      "Smallpdf, you can request e-signatures, send\n",
      "\n",
      "--Chunk 15 --\n",
      "Smallpdf, you can request e-signatures, send \n",
      "large files, or even enable the Smallpdf G Suite\n",
      "\n",
      "--Chunk 16 --\n",
      "large files, or even enable the Smallpdf G Suite \n",
      "App for your entire organization.\n",
      "\n",
      "--Chunk 17 --\n",
      "App for your entire organization. \n",
      "Ready to take document management to the next level?\n",
      "\n"
     ]
    }
   ],
   "source": [
    "splitter = RecursiveCharacterTextSplitter(\n",
    "    chunk_size = 100,\n",
    "    chunk_overlap=50\n",
    ")\n",
    "\n",
    "chunks = splitter.split_text(pdf_text)\n",
    "\n",
    "for i, chunk in enumerate(chunks):\n",
    "    print(f\"--Chunk {i+1} --\")\n",
    "    print(chunk)\n",
    "    print()"
   ]
  },
  {
   "cell_type": "markdown",
   "id": "2c6f8168",
   "metadata": {},
   "source": [
    "lets print some stats"
   ]
  },
  {
   "cell_type": "code",
   "execution_count": 12,
   "id": "64976ce2",
   "metadata": {},
   "outputs": [
    {
     "name": "stdout",
     "output_type": "stream",
     "text": [
      "Total chunks: 17\n",
      "Average chunk len: 80.47058823529412 characters\n",
      "Max Len: 94\n",
      "Min len: 59\n"
     ]
    }
   ],
   "source": [
    "print(f\"Total chunks: {len(chunks)}\")\n",
    "\n",
    "chunk_len = [len(c) for c in chunks]\n",
    "avg_len = sum(chunk_len)/ len(chunk_len)\n",
    "\n",
    "print(f\"Average chunk len: {avg_len} characters\")\n",
    "print(f\"Max Len: {max(chunk_len)}\")\n",
    "print(f\"Min len: {min(chunk_len)}\")"
   ]
  }
 ],
 "metadata": {
  "kernelspec": {
   "display_name": "Python 3",
   "language": "python",
   "name": "python3"
  },
  "language_info": {
   "codemirror_mode": {
    "name": "ipython",
    "version": 3
   },
   "file_extension": ".py",
   "mimetype": "text/x-python",
   "name": "python",
   "nbconvert_exporter": "python",
   "pygments_lexer": "ipython3",
   "version": "3.10.16"
  }
 },
 "nbformat": 4,
 "nbformat_minor": 5
}
