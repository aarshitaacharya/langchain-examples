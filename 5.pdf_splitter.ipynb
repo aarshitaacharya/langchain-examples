{
 "cells": [
  {
   "cell_type": "code",
   "execution_count": 1,
   "id": "2d7dea11",
   "metadata": {},
   "outputs": [
    {
     "name": "stdout",
     "output_type": "stream",
     "text": [
      "\n",
      "\u001b[1m[\u001b[0m\u001b[34;49mnotice\u001b[0m\u001b[1;39;49m]\u001b[0m\u001b[39;49m A new release of pip is available: \u001b[0m\u001b[31;49m23.0.1\u001b[0m\u001b[39;49m -> \u001b[0m\u001b[32;49m25.1.1\u001b[0m\n",
      "\u001b[1m[\u001b[0m\u001b[34;49mnotice\u001b[0m\u001b[1;39;49m]\u001b[0m\u001b[39;49m To update, run: \u001b[0m\u001b[32;49mpip install --upgrade pip\u001b[0m\n",
      "Note: you may need to restart the kernel to use updated packages.\n"
     ]
    }
   ],
   "source": [
    "%pip install -q langchain pymupdf python-dotenv"
   ]
  },
  {
   "cell_type": "markdown",
   "id": "9a063973",
   "metadata": {},
   "source": [
    "We will be using RecursiveCharacterTextSplitter. This helps us split documents, with chunks that are small enough to fit llm context windows, but not in the middle of the sentence or para."
   ]
  },
  {
   "cell_type": "code",
   "execution_count": null,
   "id": "0511119d",
   "metadata": {},
   "outputs": [],
   "source": [
    "import fitz\n",
    "\n",
    "def load_pdf_text(path):\n",
    "    doc = fitz.open(path)\n",
    "    full_text = \"\"\n",
    "    for page in doc:\n",
    "        full_text += page.get_text()\n",
    "    return full_text\n",
    "\n",
    "pdf_text = load_pdf_text(\"sample.pdf\")\n",
    "print(pdf_text[:100])"
   ]
  }
 ],
 "metadata": {
  "kernelspec": {
   "display_name": "Python 3",
   "language": "python",
   "name": "python3"
  },
  "language_info": {
   "codemirror_mode": {
    "name": "ipython",
    "version": 3
   },
   "file_extension": ".py",
   "mimetype": "text/x-python",
   "name": "python",
   "nbconvert_exporter": "python",
   "pygments_lexer": "ipython3",
   "version": "3.10.16"
  }
 },
 "nbformat": 4,
 "nbformat_minor": 5
}
