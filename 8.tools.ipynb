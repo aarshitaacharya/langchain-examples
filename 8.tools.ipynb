{
 "cells": [
  {
   "cell_type": "code",
   "execution_count": 1,
   "id": "90b4115a",
   "metadata": {},
   "outputs": [],
   "source": [
    "import os\n",
    "google_api_key = os.getenv(\"GOOGLE_API_KEY\")"
   ]
  },
  {
   "cell_type": "code",
   "execution_count": 30,
   "id": "bfd085c7",
   "metadata": {},
   "outputs": [
    {
     "name": "stdout",
     "output_type": "stream",
     "text": [
      "Requirement already satisfied: tavily-python in /Users/aarshitaacharya/.pyenv/versions/3.10.16/lib/python3.10/site-packages (0.7.9)\n",
      "Requirement already satisfied: tiktoken>=0.5.1 in /Users/aarshitaacharya/.pyenv/versions/3.10.16/lib/python3.10/site-packages (from tavily-python) (0.9.0)\n",
      "Requirement already satisfied: httpx in /Users/aarshitaacharya/.pyenv/versions/3.10.16/lib/python3.10/site-packages (from tavily-python) (0.28.1)\n",
      "Requirement already satisfied: requests in /Users/aarshitaacharya/.pyenv/versions/3.10.16/lib/python3.10/site-packages (from tavily-python) (2.32.3)\n",
      "Requirement already satisfied: regex>=2022.1.18 in /Users/aarshitaacharya/.pyenv/versions/3.10.16/lib/python3.10/site-packages (from tiktoken>=0.5.1->tavily-python) (2024.11.6)\n",
      "Requirement already satisfied: urllib3<3,>=1.21.1 in /Users/aarshitaacharya/.pyenv/versions/3.10.16/lib/python3.10/site-packages (from requests->tavily-python) (2.3.0)\n",
      "Requirement already satisfied: idna<4,>=2.5 in /Users/aarshitaacharya/.pyenv/versions/3.10.16/lib/python3.10/site-packages (from requests->tavily-python) (3.10)\n",
      "Requirement already satisfied: certifi>=2017.4.17 in /Users/aarshitaacharya/.pyenv/versions/3.10.16/lib/python3.10/site-packages (from requests->tavily-python) (2025.1.31)\n",
      "Requirement already satisfied: charset-normalizer<4,>=2 in /Users/aarshitaacharya/.pyenv/versions/3.10.16/lib/python3.10/site-packages (from requests->tavily-python) (3.4.1)\n",
      "Requirement already satisfied: httpcore==1.* in /Users/aarshitaacharya/.pyenv/versions/3.10.16/lib/python3.10/site-packages (from httpx->tavily-python) (1.0.7)\n",
      "Requirement already satisfied: anyio in /Users/aarshitaacharya/.pyenv/versions/3.10.16/lib/python3.10/site-packages (from httpx->tavily-python) (4.9.0)\n",
      "Requirement already satisfied: h11<0.15,>=0.13 in /Users/aarshitaacharya/.pyenv/versions/3.10.16/lib/python3.10/site-packages (from httpcore==1.*->httpx->tavily-python) (0.14.0)\n",
      "Requirement already satisfied: sniffio>=1.1 in /Users/aarshitaacharya/.pyenv/versions/3.10.16/lib/python3.10/site-packages (from anyio->httpx->tavily-python) (1.3.1)\n",
      "Requirement already satisfied: typing_extensions>=4.5 in /Users/aarshitaacharya/.pyenv/versions/3.10.16/lib/python3.10/site-packages (from anyio->httpx->tavily-python) (4.12.2)\n",
      "Requirement already satisfied: exceptiongroup>=1.0.2 in /Users/aarshitaacharya/.pyenv/versions/3.10.16/lib/python3.10/site-packages (from anyio->httpx->tavily-python) (1.2.2)\n",
      "\n",
      "\u001b[1m[\u001b[0m\u001b[34;49mnotice\u001b[0m\u001b[1;39;49m]\u001b[0m\u001b[39;49m A new release of pip is available: \u001b[0m\u001b[31;49m23.0.1\u001b[0m\u001b[39;49m -> \u001b[0m\u001b[32;49m25.1.1\u001b[0m\n",
      "\u001b[1m[\u001b[0m\u001b[34;49mnotice\u001b[0m\u001b[1;39;49m]\u001b[0m\u001b[39;49m To update, run: \u001b[0m\u001b[32;49mpip install --upgrade pip\u001b[0m\n",
      "Note: you may need to restart the kernel to use updated packages.\n"
     ]
    }
   ],
   "source": [
    "%pip install tavily-python"
   ]
  },
  {
   "cell_type": "code",
   "execution_count": 33,
   "id": "7ad03e0e",
   "metadata": {},
   "outputs": [],
   "source": [
    "import getpass\n",
    "os.environ[\"TAVILY_API_KEY\"] = getpass.getpass(\"Enter API key for Tavily\")"
   ]
  },
  {
   "cell_type": "code",
   "execution_count": 34,
   "id": "60513da8",
   "metadata": {},
   "outputs": [],
   "source": [
    "from langchain_google_genai import ChatGoogleGenerativeAI\n",
    "\n",
    "llm = ChatGoogleGenerativeAI(\n",
    "    model = \"gemini-1.5-flash\",\n",
    "    temperature=0.7\n",
    ")"
   ]
  },
  {
   "cell_type": "code",
   "execution_count": 35,
   "id": "0157bef5",
   "metadata": {},
   "outputs": [],
   "source": [
    "from langchain.tools import tool\n",
    "from langchain.tools.tavily_search import TavilySearchResults\n",
    "\n",
    "@tool\n",
    "def calculator(query: str) -> str:\n",
    "    \"Useful for mathematical operations\"\n",
    "    try:\n",
    "        return str(eval(query))\n",
    "    except Exception:\n",
    "        return \"Sorry, I could not calculate that\"\n",
    "\n",
    "search_tool = TavilySearchResults()"
   ]
  },
  {
   "cell_type": "code",
   "execution_count": 36,
   "id": "4557cda9",
   "metadata": {},
   "outputs": [],
   "source": [
    "from langchain.agents import initialize_agent, AgentType\n",
    "\n",
    "tools = [calculator, search_tool]\n",
    "\n",
    "agent = initialize_agent(\n",
    "    tools=tools,\n",
    "    llm = llm,\n",
    "    agent = AgentType.ZERO_SHOT_REACT_DESCRIPTION,\n",
    "    verbose = True\n",
    ")"
   ]
  },
  {
   "cell_type": "code",
   "execution_count": 37,
   "id": "51c053d7",
   "metadata": {},
   "outputs": [
    {
     "name": "stdout",
     "output_type": "stream",
     "text": [
      "\n",
      "\n",
      "\u001b[1m> Entering new AgentExecutor chain...\u001b[0m\n",
      "\u001b[32;1m\u001b[1;3mThought: I need to perform a division operation.  I can use the calculator for this.\n",
      "Action: calculator\n",
      "Action Input: 2020 / 5\u001b[0m\n",
      "Observation: \u001b[36;1m\u001b[1;3m404.0\u001b[0m\n",
      "Thought:\u001b[32;1m\u001b[1;3mThought: I now know the final answer\n",
      "Final Answer: 404\u001b[0m\n",
      "\n",
      "\u001b[1m> Finished chain.\u001b[0m\n",
      "404\n"
     ]
    }
   ],
   "source": [
    "response1 = agent.run(\"What is 2020 / 5 ?\")\n",
    "print(response1)"
   ]
  },
  {
   "cell_type": "code",
   "execution_count": 38,
   "id": "a5cdd563",
   "metadata": {},
   "outputs": [
    {
     "name": "stdout",
     "output_type": "stream",
     "text": [
      "\n",
      "\n",
      "\u001b[1m> Entering new AgentExecutor chain...\u001b[0m\n",
      "\u001b[32;1m\u001b[1;3mThought: I need to find the current CEO of Google.  A search engine is the best tool for this.\n",
      "Action: tavily_search_results_json\n",
      "Action Input: \"Who is the CEO of Google?\"\u001b[0m\n",
      "Observation: \u001b[33;1m\u001b[1;3m[{'title': 'Google - Wikipedia', 'url': 'https://en.wikipedia.org/wiki/Google', 'content': '| People | |  |  |  |  |  |  | | --- | --- | --- | --- | --- | --- | | Executives | |  |  | | --- | --- | | Current | - Sundar Pichai (CEO) - Ruth Porat (president and CIO) - Anat Ashkenazi (CFO) | | Former | - Larry Page (CEO) - Sergey Brin (President \"President (corporate title)\")) - David Drummond \"David Drummond (businessman)\") (CLO) | | | Board of directors | |  |  | | --- | --- | | Current | - Frances Arnold - Sergey Brin - R. Martin Chavez - John Doerr - John L. Hennessy - Ann Mather - [...] On August 10, 2015, Google announced plans to reorganize its various interests as a conglomerate \"Conglomerate (company)\") named Alphabet Inc. Google became Alphabet\\'s largest subsidiary and the umbrella company for Alphabet\\'s Internet interests. Upon completion of the restructuring, Sundar Pichai became CEO of Google, replacing Larry Page, who became CEO of Alphabet.\\n\\n.jpg)\\n\\nCurrent CEO, Sundar Pichai, with Prime Minister of India, Narendra Modi [...] Sundar Pichai was appointed CEO of Google on October 24, 2015, replacing Larry Page, who became the CEO of Alphabet. On December 3, 2019, Pichai also became the CEO of Alphabet.', 'score': 0.89545894}, {'title': 'Sundar Pichai - Business Roundtable', 'url': 'https://www.businessroundtable.org/members/sundar-pichai', 'content': \"CEO. Alphabet Inc. Sundar is the CEO of Google and Alphabet and serves on Alphabet's Board of Directors. He joined Google in 2004 and helped lead the development of Google Toolbar and then Google Chrome, which grew to become the world's most popular internet browser.\", 'score': 0.8877607}, {'title': 'Sundar Pichai - Wikipedia', 'url': 'https://en.wikipedia.org/wiki/Sundar_Pichai', 'content': '| People | | Executives | | Current |  Sundar Pichai (CEO)  Ruth Porat (president and CIO)  Anat Ashkenazi (CFO) | | --- | | Former |  Larry Page (CEO)  Sergey Brin (President \"President (corporate title)\"))  David Drummond \"David Drummond (businessman)\") (CLO) | | | --- | | Board of directors | | Current |  Frances Arnold  Sergey Brin  R. Martin Chavez  John Doerr  John L. Hennessy  Ann Mather  Larry Page  Sundar Pichai  Ram Shriram  Roger W. Ferguson Jr. | | --- | | Former |  Diane Greene [...] Pichai Sundararajan (born June 10, 1972), better known as Sundar Pichai (pronounced: /ˈ s ʊ n d ɜːr p ɪ ˈ tʃ eɪ/), is an American business executive.( He is the chief executive officer (CEO) of Alphabet Inc. and its subsidiary Google.( [...] 55.   ^Barrabi, Thomas (December 5, 2018). \"Who is Google CEO Sundar Pichai?\". _FOXBusiness_. Archived from the original on November 20, 2020. Retrieved December 24, 2020.\\n56.   ^\"कोटा से सुंदर पिचाई की पत्नी अंजलि पिचाई से मिलें; उनकी दूरदर्शिता ने Google CEO के लिए प्रति दिन 5 करोड़ रुपये का वेतन सुनिश्चित किया\". _DNA India_ (in Hindi). April 22, 2023. Archived from the original on June 24, 2023. Retrieved June 24, 2023.', 'score': 0.87605256}, {'title': 'Sundar Pichai - CEO - Google - LinkedIn', 'url': 'https://www.linkedin.com/in/sundarpichai', 'content': \"## Education\\n### The Wharton School  \\n MBA  \\n N/A - Present  \\n N/A  \\n N/A\\n\\n### Stanford University  \\n MS, Materials Science and Engineering  \\n N/A - Present  \\n N/A  \\n N/A\\n\\n### Indian Institute of Technology, Kharagpur  \\n B. Tech  \\n N/A - Present  \\n N/A  \\n N/A\\n\\n## Skills\\nN/A\\n\\n## Certifications\\nN/A\\n\\n## Volunteer Work\\nN/A\\n\\n## Languages\\nN/A\\n\\n## Groups\\nN/A [...] # Sundar  Pichai\\nCEO at Google  \\nMountain View, United States  \\nN/A connections, 914487 followers\\n\\n## About\\nCEO of Google and Alphabet. Focused on organizing the world's information and making it universally accessible and useful, building great products, and developing advanced technologies, including AI, to help people everywhere.\\n\\n## Experience\\n### CEO\\nGoogle  \\nJan 2015 - Present  \\nN/A \\n\\n### Product Management + Leadership\\nGoogle  \\nApr 2004 - Dec 2015  \\nN/A\", 'score': 0.85157084}, {'title': 'Sundar Pichai | Google Blog', 'url': 'https://blog.google/authors/sundar-pichai/', 'content': 'Authors \\n           Sundar Pichai, CEO\\n           Demis Hassabis, CEO and Co-Founder, Google DeepMind\\n           Kent Walker, SVP\\n           James Manyika, SVP\\n           Ruth Porat, President & Chief Investment Officer\\n           See all\\n\\n   Feed\\n\\n   Press corner\\n   RSS feed\\n\\nSubscribe\\n\\nImage 1: Sundar Pichai, CEO of Google and Alphabet\\n\\nSundar Pichai\\n=============\\n\\nCEO of Google and Alphabet [...] Sundar is the CEO of Google and Alphabet and serves on Alphabet’s Board of Directors. Under his leadership, Google has been focused on developing products and services, powered by the latest advances in AI, that offer help in moments big and small.\\n\\nBreadcrumb\\n1.   \\n2.   Featured authors\\n\\nFeatured story\\n--------------\\n\\nImage 2: Stylized rendering of I/O text\\nA message from our CEO [...] Authors \\n           Sundar Pichai, CEO\\n           Demis Hassabis, CEO and Co-Founder, Google DeepMind\\n           Kent Walker, SVP\\n           James Manyika, SVP\\n           Ruth Porat, President & Chief Investment Officer\\n           See all\\n\\n        Outreach & initiatives \\n           Arts & Culture\\n           Education\\n           Entrepreneurs\\n           Public Policy\\n           Sustainability', 'score': 0.8479807}]\u001b[0m\n",
      "Thought:\u001b[32;1m\u001b[1;3mThought:The search results clearly indicate that Sundar Pichai is the CEO of Google.\n",
      "Final Answer: Sundar Pichai\u001b[0m\n",
      "\n",
      "\u001b[1m> Finished chain.\u001b[0m\n",
      "Sundar Pichai\n"
     ]
    }
   ],
   "source": [
    "response2 = agent.run(\"Who is the CEO of google?\")\n",
    "print(response2)"
   ]
  }
 ],
 "metadata": {
  "kernelspec": {
   "display_name": "Python 3",
   "language": "python",
   "name": "python3"
  },
  "language_info": {
   "codemirror_mode": {
    "name": "ipython",
    "version": 3
   },
   "file_extension": ".py",
   "mimetype": "text/x-python",
   "name": "python",
   "nbconvert_exporter": "python",
   "pygments_lexer": "ipython3",
   "version": "3.10.16"
  }
 },
 "nbformat": 4,
 "nbformat_minor": 5
}
